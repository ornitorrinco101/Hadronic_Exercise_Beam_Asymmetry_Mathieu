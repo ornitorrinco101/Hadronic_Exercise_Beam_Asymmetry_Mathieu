{
 "cells": [
  {
   "cell_type": "code",
   "execution_count": 3,
   "id": "92664ded",
   "metadata": {},
   "outputs": [
    {
     "name": "stderr",
     "output_type": "stream",
     "text": [
      "/tmp/ipykernel_393234/898536536.py:9: FutureWarning: The 'delim_whitespace' keyword in pd.read_csv is deprecated and will be removed in a future version. Use ``sep='\\s+'`` instead\n",
      "  df = pd.read_csv(\"2-particles.dat\",\n"
     ]
    }
   ],
   "source": [
    "import numpy as np\n",
    "import matplotlib.pyplot as plt\n",
    "from scipy.special import gamma\n",
    "from scipy.optimize import minimize\n",
    "import pandas as pd\n",
    "import os\n",
    "os.chdir('/home/oscar/Montecarlo-for-hadronic/')\n",
    "\n",
    "df = pd.read_csv(\"2-particles.dat\", \n",
    "                 delim_whitespace=True,     # Usa cualquier espacio como separador\n",
    "                 header=None,               # No hay encabezados\n",
    "                 names=[\"E\", \"px\", \"py\", \"pz\"])  # Nombres de columnas"
   ]
  },
  {
   "cell_type": "code",
   "execution_count": 4,
   "id": "9bf5af71",
   "metadata": {},
   "outputs": [
    {
     "data": {
      "text/html": [
       "<div>\n",
       "<style scoped>\n",
       "    .dataframe tbody tr th:only-of-type {\n",
       "        vertical-align: middle;\n",
       "    }\n",
       "\n",
       "    .dataframe tbody tr th {\n",
       "        vertical-align: top;\n",
       "    }\n",
       "\n",
       "    .dataframe thead th {\n",
       "        text-align: right;\n",
       "    }\n",
       "</style>\n",
       "<table border=\"1\" class=\"dataframe\">\n",
       "  <thead>\n",
       "    <tr style=\"text-align: right;\">\n",
       "      <th></th>\n",
       "      <th>E</th>\n",
       "      <th>px</th>\n",
       "      <th>py</th>\n",
       "      <th>pz</th>\n",
       "    </tr>\n",
       "  </thead>\n",
       "  <tbody>\n",
       "    <tr>\n",
       "      <th>0</th>\n",
       "      <td>0.290182</td>\n",
       "      <td>0.00000</td>\n",
       "      <td>0.000000</td>\n",
       "      <td>0.256867</td>\n",
       "    </tr>\n",
       "    <tr>\n",
       "      <th>1</th>\n",
       "      <td>0.290182</td>\n",
       "      <td>-0.19150</td>\n",
       "      <td>0.110913</td>\n",
       "      <td>-0.130409</td>\n",
       "    </tr>\n",
       "    <tr>\n",
       "      <th>2</th>\n",
       "      <td>0.972535</td>\n",
       "      <td>0.19150</td>\n",
       "      <td>-0.110913</td>\n",
       "      <td>0.130409</td>\n",
       "    </tr>\n",
       "    <tr>\n",
       "      <th>3</th>\n",
       "      <td>0.260117</td>\n",
       "      <td>0.00000</td>\n",
       "      <td>0.000000</td>\n",
       "      <td>0.222342</td>\n",
       "    </tr>\n",
       "    <tr>\n",
       "      <th>4</th>\n",
       "      <td>0.260117</td>\n",
       "      <td>0.20398</td>\n",
       "      <td>-0.073869</td>\n",
       "      <td>0.048697</td>\n",
       "    </tr>\n",
       "  </tbody>\n",
       "</table>\n",
       "</div>"
      ],
      "text/plain": [
       "          E       px        py        pz\n",
       "0  0.290182  0.00000  0.000000  0.256867\n",
       "1  0.290182 -0.19150  0.110913 -0.130409\n",
       "2  0.972535  0.19150 -0.110913  0.130409\n",
       "3  0.260117  0.00000  0.000000  0.222342\n",
       "4  0.260117  0.20398 -0.073869  0.048697"
      ]
     },
     "execution_count": 4,
     "metadata": {},
     "output_type": "execute_result"
    }
   ],
   "source": [
    "df.head()"
   ]
  },
  {
   "cell_type": "markdown",
   "id": "9a48c70b",
   "metadata": {},
   "source": [
    "Reconstruimos las variables de Mandelstam, teniendo en cuenta que en cada grupo de tres, el primero es el fotón el segundo es el pión y el tercero es el protón."
   ]
  },
  {
   "cell_type": "code",
   "execution_count": 5,
   "id": "ae4aafa4",
   "metadata": {},
   "outputs": [
    {
     "data": {
      "text/html": [
       "<div>\n",
       "<style scoped>\n",
       "    .dataframe tbody tr th:only-of-type {\n",
       "        vertical-align: middle;\n",
       "    }\n",
       "\n",
       "    .dataframe tbody tr th {\n",
       "        vertical-align: top;\n",
       "    }\n",
       "\n",
       "    .dataframe thead th {\n",
       "        text-align: right;\n",
       "    }\n",
       "</style>\n",
       "<table border=\"1\" class=\"dataframe\">\n",
       "  <thead>\n",
       "    <tr style=\"text-align: right;\">\n",
       "      <th></th>\n",
       "      <th>E</th>\n",
       "      <th>px</th>\n",
       "      <th>py</th>\n",
       "      <th>pz</th>\n",
       "    </tr>\n",
       "  </thead>\n",
       "  <tbody>\n",
       "    <tr>\n",
       "      <th>0</th>\n",
       "      <td>0.290182</td>\n",
       "      <td>0.0000</td>\n",
       "      <td>0.000000</td>\n",
       "      <td>0.256867</td>\n",
       "    </tr>\n",
       "    <tr>\n",
       "      <th>1</th>\n",
       "      <td>0.290182</td>\n",
       "      <td>-0.1915</td>\n",
       "      <td>0.110913</td>\n",
       "      <td>-0.130409</td>\n",
       "    </tr>\n",
       "    <tr>\n",
       "      <th>2</th>\n",
       "      <td>0.972535</td>\n",
       "      <td>0.1915</td>\n",
       "      <td>-0.110913</td>\n",
       "      <td>0.130409</td>\n",
       "    </tr>\n",
       "  </tbody>\n",
       "</table>\n",
       "</div>"
      ],
      "text/plain": [
       "          E      px        py        pz\n",
       "0  0.290182  0.0000  0.000000  0.256867\n",
       "1  0.290182 -0.1915  0.110913 -0.130409\n",
       "2  0.972535  0.1915 -0.110913  0.130409"
      ]
     },
     "execution_count": 5,
     "metadata": {},
     "output_type": "execute_result"
    }
   ],
   "source": [
    "n = 3  # Tamaño de bloque\n",
    "\n",
    "# Crear una lista donde cada elemento es un bloque de 3 filas\n",
    "grupos = [df.iloc[i:i+n].reset_index(drop=True) for i in range(0, len(df), n)]\n",
    "\n",
    "# Ejemplo: acceder al grupo 0\n",
    "grupos[0]"
   ]
  },
  {
   "cell_type": "code",
   "execution_count": 6,
   "id": "dbe5bfb9",
   "metadata": {},
   "outputs": [],
   "source": [
    "s_var = []\n",
    "t_var = []\n",
    "\n",
    "for idx in range(len(grupos)):\n",
    "\n",
    "    p_1 = grupos[idx].iloc[0].values ### FOTON\n",
    "    p_a = grupos[idx].iloc[1].values ### PION\n",
    "    p_b = grupos[idx].iloc[2].values ### PROTON\n",
    "\n",
    "    p_s = p_a - p_b\n",
    "    p_t = p_a - p_1\n",
    "\n",
    "    s = p_s[0]**2 - (p_s[1:4]**2).sum()\n",
    "    t = p_t[0]**2 - (p_t[1:4]**2).sum()\n",
    "\n",
    "    s_var.append(s)\n",
    "    t_var.append(t)"
   ]
  },
  {
   "cell_type": "code",
   "execution_count": 7,
   "id": "476ab439",
   "metadata": {},
   "outputs": [],
   "source": [
    "# Constantes físicas\n",
    "M = 0.938    # Masa del protón en GeV\n",
    "m_pi0 = 0.135 # Masa del pión neutro en GeV\n",
    "hbarc2 = 0.3894 # Factor de conversión GeV^-2 a μb (microbarns)\n",
    "#s = (8.0 + M)**2\n",
    "# Parámetros del modelo de Regge (Mathieu et al. 2015)\n",
    "# Trayectorias (Ecuación 23)\n",
    "alpha_V0 = 0.44      # Intercepto vectorial\n",
    "alpha_V_prime = 0.93 # Pendiente vectorial (GeV^-2)\n",
    "alpha_A0 = -0.22     # Intercepto axial\n",
    "alpha_A_prime = 1.08 # Pendiente axial (GeV^-2)\n",
    "alpha_c0 = 0.9       # Intercepto del corte\n",
    "alpha_c_prime = 0.2  # Pendiente del corte (GeV^-2)\n",
    "\n",
    "# Acoplamientos (Ecuación 24)\n",
    "g1 = -0.14    # GeV^-2 (acoplamiento vectorial helicidad-flip)\n",
    "g2 = -9.74    # GeV^-4 (acoplamiento axial)\n",
    "g4 = 3.98     # GeV^-2 (acoplamiento vectorial helicidad-nonflip)\n",
    "g1c = 0.24    # GeV^-2 (corte vectorial helicidad-flip)\n",
    "g4c = -0.13   # GeV^-2 (corte vectorial helicidad-nonflip)\n",
    "\n",
    "# Escala de energía\n",
    "s0 = 1.0    # GeV^2 (parámetro de escala)\n",
    "\n",
    "def alpha_V(t):\n",
    "    \"\"\"Trayectoria para intercambios vectoriales (ω y ρ)\"\"\"\n",
    "    return alpha_V0 + alpha_V_prime * t\n",
    "\n",
    "def alpha_A(t):\n",
    "    \"\"\"Trayectoria para intercambios axiales (b y h)\"\"\"\n",
    "    return alpha_A0 + alpha_A_prime * t\n",
    "\n",
    "def alpha_c(t):\n",
    "    \"\"\"Trayectoria para el corte Regge-Pomerón\"\"\"\n",
    "    return alpha_c0 + alpha_c_prime * t\n",
    "\n",
    "def regge_amplitude(s, t, alpha_traj):\n",
    "    \"\"\"\n",
    "    Amplitud de Regge completa (Ecuación 11 del artículo)\n",
    "    \n",
    "    Args:\n",
    "        s: Mandelstam s (GeV^2)\n",
    "        t: Mandelstam t (GeV^2)\n",
    "        alpha_traj: Función de trayectoria (alpha_V, alpha_A o alpha_c)\n",
    "    \n",
    "    Returns:\n",
    "        Amplitud compleja de Regge\n",
    "    \"\"\"\n",
    "    # Término gamma para eliminar polos no físicos\n",
    "    \n",
    "    gamma_term = np.pi / gamma(alpha_traj(t))\n",
    "    # Factor de firma (1 - e^{-iπα})/(2 sin πα)  \n",
    "    alpha = alpha_traj(t) + 1e-6  \n",
    "    signature = (1 - np.exp(-1j * np.pi * alpha)) / (2 * np.sin(np.pi * alpha))\n",
    "    \n",
    "    # Dependencia energética (s/s0)^{α(t)-1}\n",
    "    energy_dep = (s / s0)**(alpha - 1)\n",
    "    \n",
    "    return gamma_term * signature * energy_dep\n",
    "\n",
    "def regge_cut(s, t, alpha_traj):\n",
    "    \"\"\"\n",
    "    Corte Regge-Pomerón (Ecuación 12 del artículo)\n",
    "    Similar a la amplitud de Regge pero con factor logarítmico adicional\n",
    "    \"\"\"\n",
    "    log_term = 1.0 / np.log(s / s0)\n",
    "    return log_term * regge_amplitude(s, t, alpha_traj)\n",
    "    \n",
    "def F1(s, t):\n",
    "    \"\"\"Amplitud invariante F1 (Ecuación 15, contribución vectorial + corte)\"\"\"\n",
    "    RV = regge_amplitude(s, t, alpha_V)\n",
    "    Rc = regge_cut(s, t, alpha_c)\n",
    "    return (-g1*t + 2*M*g4)*RV + (-g1c*t + 2*M*g4c)*Rc\n",
    "\n",
    "def F2(s, t):\n",
    "    \"\"\"Amplitud invariante F2 (Ecuación 15, contribución axial)\"\"\"\n",
    "    RA = regge_amplitude(s, t, alpha_A)\n",
    "    return g2 * t * RA\n",
    "\n",
    "def F3(s, t):\n",
    "    \"\"\"Amplitud invariante F3 (Ecuación 15, contribución vectorial + corte)\"\"\"\n",
    "    RV = regge_amplitude(s, t, alpha_V)\n",
    "    Rc = regge_cut(s, t, alpha_c)\n",
    "    return (2*M*g1 - g4)*t*RV + (2*M*g1c - g4c)*t*Rc\n",
    "\n",
    "def F4(s, t):\n",
    "    \"\"\"Amplitud invariante F4 (despreciada en el modelo)\"\"\"\n",
    "    return 0.0 + 0.0j"
   ]
  },
  {
   "cell_type": "code",
   "execution_count": 8,
   "id": "c56ac53f",
   "metadata": {},
   "outputs": [],
   "source": [
    "def seccion_eficaz(s, t, M):\n",
    "\n",
    "    return 1 / 32*np.pi * ( ( abs(F3(s,t))**2 - t*abs(F1(s,t))**2) / ( 4 * M**2 - t ) + abs(F2(s,t))**2 - t*abs(F4(s,t))**2 )"
   ]
  },
  {
   "cell_type": "code",
   "execution_count": 9,
   "id": "e97d505c",
   "metadata": {},
   "outputs": [
    {
     "name": "stderr",
     "output_type": "stream",
     "text": [
      "/tmp/ipykernel_393234/242641454.py:57: RuntimeWarning: invalid value encountered in scalar power\n",
      "  energy_dep = (s / s0)**(alpha - 1)\n",
      "/tmp/ipykernel_393234/242641454.py:66: RuntimeWarning: invalid value encountered in log\n",
      "  log_term = 1.0 / np.log(s / s0)\n"
     ]
    }
   ],
   "source": [
    "dsigma_dt = []\n",
    "\n",
    "for i in range(len(grupos)):\n",
    "\n",
    "    dsigma_dt.append(seccion_eficaz(s_var[i],t_var[i],M))"
   ]
  },
  {
   "cell_type": "code",
   "execution_count": 10,
   "id": "a7ed60e8",
   "metadata": {},
   "outputs": [
    {
     "data": {
      "text/plain": [
       "(array([4.274e+03, 0.000e+00, 0.000e+00, 0.000e+00, 0.000e+00, 0.000e+00,\n",
       "        0.000e+00, 0.000e+00, 0.000e+00, 1.000e+00]),\n",
       " array([2.10448945e-06, 2.81456262e+14, 5.62912524e+14, 8.44368786e+14,\n",
       "        1.12582505e+15, 1.40728131e+15, 1.68873757e+15, 1.97019384e+15,\n",
       "        2.25165010e+15, 2.53310636e+15, 2.81456262e+15]),\n",
       " <BarContainer object of 10 artists>)"
      ]
     },
     "execution_count": 10,
     "metadata": {},
     "output_type": "execute_result"
    },
    {
     "data": {
      "image/png": "[encoded data removed]",
      "text/plain": [
       "<Figure size 640x480 with 1 Axes>"
      ]
     },
     "metadata": {},
     "output_type": "display_data"
    }
   ],
   "source": [
    "plt.hist(dsigma_dt)"
   ]
  },
  {
   "cell_type": "code",
   "execution_count": null,
   "id": "13cb596d",
   "metadata": {},
   "outputs": [],
   "source": []
  }
 ],
 "metadata": {
  "kernelspec": {
   "display_name": "Python 3 (ipykernel)",
   "language": "python",
   "name": "python3"
  },
  "language_info": {
   "codemirror_mode": {
    "name": "ipython",
    "version": 3
   },
   "file_extension": ".py",
   "mimetype": "text/x-python",
   "name": "python",
   "nbconvert_exporter": "python",
   "pygments_lexer": "ipython3",
   "version": "3.10.16"
  }
 },
 "nbformat": 4,
 "nbformat_minor": 5
}
